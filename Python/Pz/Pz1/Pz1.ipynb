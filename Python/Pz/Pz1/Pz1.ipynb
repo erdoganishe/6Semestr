{
 "cells": [
  {
   "cell_type": "code",
   "execution_count": 57,
   "id": "27d90d1a",
   "metadata": {},
   "outputs": [],
   "source": [
    "def ord_insert(lst, e):\n",
    "    i=0\n",
    "    while (lst[i] < e and i <len(lst)):\n",
    "        i+=1\n",
    "    lst.insert(e,i)"
   ]
  },
  {
   "cell_type": "code",
   "execution_count": null,
   "id": "9a6a582a",
   "metadata": {},
   "outputs": [],
   "source": []
  },
  {
   "cell_type": "code",
   "execution_count": null,
   "id": "52ae5911",
   "metadata": {},
   "outputs": [],
   "source": []
  },
  {
   "cell_type": "code",
   "execution_count": null,
   "id": "beee9eaa",
   "metadata": {},
   "outputs": [],
   "source": []
  }
 ],
 "metadata": {
  "kernelspec": {
   "display_name": "Python 3 (ipykernel)",
   "language": "python",
   "name": "python3"
  },
  "language_info": {
   "codemirror_mode": {
    "name": "ipython",
    "version": 3
   },
   "file_extension": ".py",
   "mimetype": "text/x-python",
   "name": "python",
   "nbconvert_exporter": "python",
   "pygments_lexer": "ipython3",
   "version": "3.10.9"
  }
 },
 "nbformat": 4,
 "nbformat_minor": 5
}
